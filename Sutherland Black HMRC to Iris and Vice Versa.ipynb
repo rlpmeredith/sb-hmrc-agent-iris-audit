{
 "cells": [
  {
   "cell_type": "code",
   "execution_count": 27,
   "metadata": {},
   "outputs": [],
   "source": [
    "import csv\n",
    "\n",
    "f = open('C:\\\\users\\\\rmeredith\\\\desktop\\\\exported.csv','r')\n",
    "iris_data = csv.reader(f)\n",
    "iris_list = list(iris_data)\n",
    "iris_list_nh = iris_list[2:]\n",
    "\n",
    "f2 = open('C:\\\\users\\\\rmeredith\\\\desktop\\\\SAAgentClientList.csv','r')\n",
    "hmrc_data = csv.reader(f2)\n",
    "hmrc_list = list(hmrc_data)\n",
    "hmrc_list_nh = hmrc_list[1:]\n",
    "\n"
   ]
  },
  {
   "cell_type": "code",
   "execution_count": 49,
   "metadata": {},
   "outputs": [
    {
     "name": "stdout",
     "output_type": "stream",
     "text": [
      "[['ABR002', 'ABRAHAMS E L MRS', '2749443253', 'N'], ['ABR004', 'ABRAHAMS G F MR', '2308957428', 'N'], ['ABR003', 'Abrahams G MR', '1817730355', 'Y'], ['ABR005', 'ABRAHAMS R MR', '6276139697', 'N'], ['AHM006', 'AHMED J MR', '2085270606', 'Y'], ['AIM001', 'AIRNS K J MR', '7834539783', 'N'], ['ALE001', 'Alexander Hotels ', '9204970722', 'Y'], ['ALL004', 'ALLISON F H MR', '3592384766', 'N'], ['ALL003', 'ALLISON JM MRS', '6805041095', 'N'], ['ALM001', 'ALMOND VALLEY PROPERTY     CENTRE ', '8319147786', 'Y'], ['AND001', 'ANDERSON A J MRS', '2636947541', 'N'], ['AST001', 'ASTON S A MR', '5303945753', 'N'], ['AUT003', 'AUTOWEST ', '1934185952', 'Y'], ['BAL003', 'BALLANTINE R C MR', '7384166925', 'Y'], ['BAL002', 'BALMER K T MR', '1297480624', 'Y'], ['BAR003', 'BARLEE C J MRS', '7394181597', 'Y'], ['BAR002', 'BARLEE R J MR', '6276475656', 'N'], ['BAR004', 'BARNES D J MR', '2264365657', 'N'], ['BEA002', 'BEATON A M MR', '2054934626', 'N'], ['BEA001', 'BEATON L MRS', '2841641189', 'N'], ['BIA002', 'BIANCHINI C S MISS', '3783762969', 'N'], ['BIS001', 'BISSLAND T MR', '8852279242', 'Y'], ['BLA004', 'BLAKE J MR', '8849284524', 'Y'], ['BLA005', 'BLAKE S MRS', '3835157587', 'Y'], ['BOW001', 'BOWDEN E J MR', '1710532375', 'Y'], ['BOW002', 'BOWDEN S T MRS', '1538760251', 'Y'], ['BRA001', 'BRADY S P MR', '3713593753', 'N'], ['BRI006', 'BRIGGS M MR', '1425983366', 'N'], ['BRI005', 'BRIGGS N MRS', '8512546028', 'N'], ['BRO007', 'BRODIE & WALLS LLP ', '3751644320', 'Y'], ['BRO005', 'BRODIE L V MR', '1750240186', 'N'], ['CAL010', 'CALLAGHAN D T MR', '6866544596', 'Y'], ['CAM002', 'CAMPBELL G MR', '3288857266', 'N'], ['CAM004', 'CAMPBELL J D MR', '7030099855', 'Y'], ['CHA004', 'CHAUDHRY K MR', '7820039120', 'N'], ['CHA005', 'CHAUDHRY R A MRS', '3306148107', 'N'], ['CHI002', 'CHINGOSHO O  MS', '7591140083', 'N'], ['CHI001', 'CHISHOLM A J MR', '8880168120', 'N'], ['CLA004', 'CLARK A R MR', '7552587011', 'N'], ['CLA005', 'CLARK S J MRS', '8807069427', 'Y'], ['COL001', 'COLLINS M R MR', '6715692985', 'Y'], ['CON001', 'CONNOR A T MR', '3207062936', 'Y'], ['COO003', 'COOK J F MR', '3485342013', 'Y'], ['CRA001', 'CRAWFORD M MRS', '7805049026', 'N'], ['DAL004', 'DALE M J MR', '2141193609', 'N'], ['DAL001', 'DALZEL-JOB I MR', '7670273119', 'N'], ['DAV006', 'DAVIES C J MRS', '1943999267', 'Y'], ['DAV005', 'DAVIES P L MR', '3633696633', 'Y'], ['GAE002', 'DE GAETANO A MR', '5788688353', 'N'], ['GAE001', 'DE GAETANO D MR', '8179659533', 'N'], ['DEN002', 'DENHOLM A H MR', '3726859149', 'Y'], ['DEN003', 'DENHOLM A J MRS', '9620095225', 'N'], ['DRE003', 'DREVER                                           J F MRS', '7189939966', 'Y'], ['DRU001', 'DRUMMOND A MR', '1847970064', 'N'], ['DRU002', 'DRUMMOND J MRS', '9410647950', 'Y'], ['ELS002', 'ELSHANI M MR', '5119091063', 'Y'], ['ELS001', 'ELSHANI T MR', '1340834688', 'Y'], ['EWE001', 'EWEN N P MR', '7474681046', 'Y'], ['FAN001', 'FANNING D J MR', '5554382457', 'Y'], ['FAR001', 'FARRELL C MR', '5144959406', 'N'], ['FLE001', 'FLEMING D A MR', '5950441328', 'Y'], ['FOR002', 'FORDE S J MR', '8490068220', 'N'], ['FOR004', 'FORREST N D MR', '8722931418', 'N'], ['GIL008', 'GILL A MR', '7042743544', 'N'], ['GIL007', 'GILL E T MRS', '4552746810', 'Y'], ['223B', 'GRAY B I MR', '8193365978', 'N'], ['GRA001', 'GRAY S MR', '5102354407', 'N'], ['HAL002', 'HALE M C MR', '3678783819', 'Y'], ['HAR004', 'HARKINS                                           T G MR', '1904088760', 'N'], ['HAR011', 'HARKINS S MRS', '6202277181', 'N'], ['HAR013', 'HARPER S R MR', '5562999327', 'N'], ['HAR008', 'HARRISON A N MRS', '7047074258', 'N'], ['HAR009', 'HARRISON N MR', '4930042802', 'Y'], ['HAR006', 'HARRISON N S MR', '4157343789', 'N'], ['HAR010', 'HARRISON P MRS', '9039036993', 'N'], ['HAR007', 'HARRISON S MR', '7414964689', 'N'], ['HAR001', 'HARROP J S MR', '3056448981', 'N'], ['HET001', 'HETHERINGTON J  MISS', '5156353300', 'Y'], ['HIG001', 'HIGGINS J MISS', '5854663033', 'Y'], ['HUM001', 'HUME N C MR', '1459460705', 'N'], ['HUS002', 'HUSSAIN A MR', '5134274470', 'N'], ['HUS003', 'HUSSAIN M S MR', '8489341523', 'Y'], ['HUS001', 'HUSSAIN R MRS', '5445072537', 'Y'], ['IRV001', 'IRVINE G J MR', '8498054337', 'Y'], ['IWA001', 'IWANIEC M J MR', '5265040338', 'Y'], ['IWA002', 'IWANIEC R MR', '2367195093', 'Y'], ['JAC001', 'JACKSON D A MR', '3822037584', 'N'], ['JAC002', 'JACKSON JB MRS', '4645839187', 'N'], ['JEF001', 'JEFFRAY I M MR', '5456277981', 'Y'], ['KAY001', 'KAY A G MR', '1721738743', 'N'], ['KAY002', 'KAY F MRS', '8376868449', 'N'], ['LAI001', 'LAING B J MR', '9253872439', 'N'], ['LAI002', 'LAING K MR', '4146386536', 'Y'], ['SAN001', 'LAING N MRS', '2827437118', 'Y'], ['LAM001', 'LAMONT S E MR', '7351754780', 'N'], ['LAW001', 'LAWSON D MR', '8284588404', 'N'], ['LEE001', 'LEE M H MR', '9241763461', 'N'], ['LEI003', 'LEIGH C A MRS', '2057443038', 'N'], ['LID001', 'LIDDLE A MR', '4842474187', 'Y'], ['LIN001', 'LINDSAY D MISS', '3826289519', 'N'], ['LIN002', 'LINDSAY H MRS', '2795248022', 'N'], ['LIN004', 'LINDSAY J S MR', '5995349264', 'Y'], ['LIN003', 'LINDSAY J S MR', '8410080094', 'N'], ['LOU004', 'LOUGH M W MR', '2311831295', 'N'], ['LOU003', 'LOUGHRAN D MR', '6272461573', 'Y'], ['LOU001', 'LOUGHRAN R D MR', '6646630401', 'Y'], ['LOW001', 'LOWRY S MS', '8075639638', 'Y'], ['MAC006', 'MACDONALD A E MR', '7198469039', 'Y'], ['MAC005', 'MACDONALD M MRS', '8931230890', 'N'], ['MAC002', 'MACKAY N L MR', '8090640949', 'N'], ['MAC012', 'MACRITCHIE I L MRS', '5196047166', 'N'], ['MAC011', 'MACRITCHIE I MR', '7469444667', 'N'], ['MAL001', 'MALLACE M T MRS', '5428285099', 'N'], ['MAN004', 'MANOHARAN S MR', '7001987478', 'N'], ['MAR002', 'MARTIN A J MRS', '8944766918', 'Y'], ['MAR001', 'MARTIN K A MR', '6807075288', 'Y'], ['MAR005', 'MARTIN R A MR', '6451531684', 'Y'], ['MCD002', 'MCDONALD A W MR', '4807074756', 'N'], ['MCD006', 'MCDONALD A W MR', '3246658060', 'N'], ['MCK001', 'MCKINLEY W MR', '2356852821', 'N'], ['MCL002', 'MCLEAN D L MRS', '6032564830', 'Y'], ['MCM001', 'MCMANUS F  PROFESSOR', '4981173386', 'N'], ['MIL003', 'MILLER ALEX MR', '2807077112', 'N'], ['MIT001', 'MITCHELL J MR', '4282180053', 'N'], ['MIT005', 'MITCHELL L MRS', '1988535175', 'Y'], ['MIT002', 'MITCHELL M M MRS', '7137298436', 'N'], ['MOR007', 'MORTON D MR', '3144064185', 'Y'], ['MOR004', 'MORTON D MR', '7877958280', 'N'], ['MOR005', 'MORTON D MR', '7861866665', 'Y'], ['MOR010', 'MORTON R W MR', '5100049735', 'N'], ['MOR003', 'MORTON W M MRS', '8444231707', 'N'], ['MOR009', 'MORTONJNR D  MR', '6731773597', 'Y'], ['MUI001', 'MUIR G A MR', '1768468086', 'Y'], ['MUI002', 'MUIR P R MRS', '9048783686', 'Y'], ['mul002', 'MULLARD G J MRS', '1971434742', 'N'], ['CAP001-E3', 'MURRAY C J MR', '8037794681', 'N'], ['NIC002', 'NICOLSON E J MRS', '3712441509', 'N'], ['NIC001', 'NICOLSON K M MR', '4311997375', 'N'], ['NOR002', 'NORTHAM P MR', '8114469050', 'N'], ['OBE001', 'OBERHEIM S MR', '4408667779', 'Y'], ['null', 'PAGET D MR', '6182292494', 'Y'], ['PAG003', 'PAGET J H MR', '2750944210', 'Y'], ['PAR001', 'PARK D W MR', '5404930145', 'Y'], ['PAT001', 'PATERSON D M MS', '7476774932', 'Y'], ['PAT002', 'PATON C MR', '2311069332', 'Y'], ['PAT003', 'PATON K MRS', '3909648832', 'Y'], ['PIC001', 'PICKARD W R MR', '1824677233', 'Y'], ['PUG001', 'PUGH J A MRS', '8635469799', 'N'], ['PUN001', 'PUNTON M MR', '7157632661', 'N'], ['null', 'RATHIE R H MR', '3183436368', 'Y'], ['REN004', 'RENNIE S A MR', '2367746873', 'Y'], ['RIC001', 'RICHARDS H L MISS', '2898390587', 'N'], ['ROB006', 'ROBERTSON W R MR', '1336741663', 'Y'], ['ROY001', 'ROYAL HOTEL ', '1585862180', 'Y'], ['SAB001', 'SABAT S E MR', '3317799372', 'N'], ['SAR003', 'SARAVANAN V MRS', '5001341976', 'Y'], ['SAR002', 'SARGEANT H MRS', '8627348280', 'N'], ['SAR001', 'SARGEANT M K MR', '7079951420', 'N'], ['SCO006', 'SCOBIE J S MR', '2749297277', 'N'], ['SEP001', 'SEPUTIS D  MR', '5850954752', 'N'], ['SIM003', 'SIMMONS C K MRS', '9395360623', 'Y'], ['SIM001', 'SIMMONS S MR', '8412492950', 'N'], ['SIM002-D', 'SIMPSON A G MR', '6218470332', 'Y'], ['MCG002', 'SIMPSON M A MRS', '2535155439', 'N'], ['PDQ001-E1', 'SMILLIE J MR', '7478949481', 'N'], ['SNE001', 'SNEDDON S T MR', '1809072018', 'N'], ['STE008', 'STEEDMAN M A MRS', '5055873235', 'N'], ['STE007', 'STEEDMAN R MR', '3133676250', 'N'], ['STE001', 'STEIN P MR', '4150399998', 'Y'], ['STE005', 'Steventon                                   Richard M Mr', '6954971850', 'Y'], ['null', 'STEVENTON K MS', '2277272248', 'Y'], ['STR001', 'STRACHAN S MR', '1946335920', 'N'], ['SUT003', 'SUTHERLAND N S MR', '1528856879', 'N'], ['TAY002', 'TAYLOR C ', '2263835466', 'Y'], ['TAY001', 'TAYLOR D J MR', '3120238814', 'Y'], ['TEM002', 'TEMPLETON C A MRS', '7521584994', 'Y'], ['TEM001', 'TEMPLETON M MR', '5848678005', 'N'], ['BIK001', 'THE BIKE YARD LLP ', '8077657457', 'Y'], ['THO002', 'THOMSON G MR', '3590274624', 'Y'], ['HAM001', 'TOD J H MRS', '2279148240', 'Y'], ['MUR003', 'TORRANCE F L MISS', '9502978138', 'N'], ['TUR003', 'TURNBULL B  MR', '9290081611', 'N'], ['ULR001', 'ULRICHSEN O MR', '2228141876', 'N'], ['ULR002', 'ULRICHSEN S M MRS', '1915893253', 'N'], ['WAL001', 'WALCZYNSKA Z  MISS', '9634669740', 'N'], ['WAL005', 'WALKER K A MRS', '1150477907', 'N'], ['null', 'WHEELER M R MR', '7121677727', 'N'], ['null', 'WHITELAW C D MR', '6237467607', 'N'], ['WHI007', 'WHITELAW D R MR', '2807083098', 'N'], ['WHI009', 'WHITELAW P MRS', '1451481206', 'Y'], ['WIL007', 'WILSON H C MRS', '4260130242', 'Y'], ['WIL007', 'WILSON P B MR', '1445639790', 'N'], ['YOU004', 'YOUNG A J MR', '1749341011', 'N'], ['YOU005', 'YOUNG A R MRS', '4228046216', 'Y'], ['YOU003', 'YOUNG J A MR', '2361366774', 'N']]\n"
     ]
    }
   ],
   "source": [
    "#print(iris_list_nh)\n",
    "print(hmrc_list_nh)"
   ]
  },
  {
   "cell_type": "code",
   "execution_count": 51,
   "metadata": {},
   "outputs": [
    {
     "name": "stdout",
     "output_type": "stream",
     "text": [
      "AHM008 Mrs L Ahmed is in Iris but not in HMRC\n",
      "ANT001 Mr D W Antczak is in Iris but not in HMRC\n",
      "BLA003 Ms I Blackman is in Iris but not in HMRC\n",
      "CHA007 Mrs F M Chatterjee is in Iris but not in HMRC\n",
      "ISL001 is missing utr in Iris\n",
      "ISL001 Mr D Islam is in Iris but not in HMRC\n",
      "LAB002 Mr E Labinjoh is in Iris but not in HMRC\n",
      "LOU005 is missing utr in Iris\n",
      "LOU005 Mrs J H Lough is in Iris but not in HMRC\n",
      "MAC013 is missing utr in Iris\n",
      "MAC013 Ms I E H MacDonald is in Iris but not in HMRC\n",
      "MAI001 Mr P G Mair is in Iris but not in HMRC\n",
      "MON001 Mr S Monaghan is in Iris but not in HMRC\n",
      "MUR002 Mr C M Murray is in Iris but not in HMRC\n",
      "PAG001 Mr D Paget is in Iris but not in HMRC\n",
      "PRA001 Mr A Prasher is in Iris but not in HMRC\n",
      "SAL002 Mr N Salkeld is in Iris but not in HMRC\n",
      "STE006 Mrs K Steventon is in Iris but not in HMRC\n"
     ]
    }
   ],
   "source": [
    "for irisrow in iris_list_nh:\n",
    "    rowmatch = 0\n",
    "    if irisrow[4] == '':\n",
    "            print(irisrow[0],\"is missing utr in Iris\")\n",
    "    else:\n",
    "        for hmrcrow in hmrc_list_nh:\n",
    "            if irisrow[4] == hmrcrow[2]:\n",
    "                rowmatch = 1\n",
    " #               print(irisrow[0],\"is in Iris and hmrc\")\n",
    "                break\n",
    "                \n",
    "    if rowmatch == 0:\n",
    "        print(irisrow[0],irisrow[1], \"is in Iris but not in HMRC\")\n",
    "                \n",
    "            \n",
    "    "
   ]
  },
  {
   "cell_type": "code",
   "execution_count": 52,
   "metadata": {},
   "outputs": [
    {
     "name": "stdout",
     "output_type": "stream",
     "text": [
      "ALE001 Alexander Hotels  is in HMRC but not in Iris\n",
      "ALM001 ALMOND VALLEY PROPERTY     CENTRE  is in HMRC but not in Iris\n",
      "AUT003 AUTOWEST  is in HMRC but not in Iris\n",
      "BAL002 BALMER K T MR is in HMRC but not in Iris\n",
      "BLA004 BLAKE J MR is in HMRC but not in Iris\n",
      "BRO007 BRODIE & WALLS LLP  is in HMRC but not in Iris\n",
      "CON001 CONNOR A T MR is in HMRC but not in Iris\n",
      "COO003 COOK J F MR is in HMRC but not in Iris\n",
      "DRU002 DRUMMOND J MRS is in HMRC but not in Iris\n",
      "ELS001 ELSHANI T MR is in HMRC but not in Iris\n",
      "FAR001 FARRELL C MR is in HMRC but not in Iris\n",
      "HIG001 HIGGINS J MISS is in HMRC but not in Iris\n",
      "HUS002 HUSSAIN A MR is in HMRC but not in Iris\n",
      "HUS003 HUSSAIN M S MR is in HMRC but not in Iris\n",
      "IRV001 IRVINE G J MR is in HMRC but not in Iris\n",
      "LEI003 LEIGH C A MRS is in HMRC but not in Iris\n",
      "LID001 LIDDLE A MR is in HMRC but not in Iris\n",
      "MAR001 MARTIN K A MR is in HMRC but not in Iris\n",
      "MAR005 MARTIN R A MR is in HMRC but not in Iris\n",
      "MIT005 MITCHELL L MRS is in HMRC but not in Iris\n",
      "MOR009 MORTONJNR D  MR is in HMRC but not in Iris\n",
      "NOR002 NORTHAM P MR is in HMRC but not in Iris\n",
      "OBE001 OBERHEIM S MR is in HMRC but not in Iris\n",
      "null PAGET D MR is in HMRC but not in Iris\n",
      "PAT002 PATON C MR is in HMRC but not in Iris\n",
      "PAT003 PATON K MRS is in HMRC but not in Iris\n",
      "PIC001 PICKARD W R MR is in HMRC but not in Iris\n",
      "ROY001 ROYAL HOTEL  is in HMRC but not in Iris\n",
      "null STEVENTON K MS is in HMRC but not in Iris\n",
      "STR001 STRACHAN S MR is in HMRC but not in Iris\n",
      "BIK001 THE BIKE YARD LLP  is in HMRC but not in Iris\n",
      "WIL007 WILSON H C MRS is in HMRC but not in Iris\n"
     ]
    }
   ],
   "source": [
    "for hmrcrow in hmrc_list_nh:\n",
    "    rowmatch = 0\n",
    "    for irisrow in iris_list_nh:\n",
    "            if hmrcrow[2] == irisrow[4]:\n",
    "                rowmatch = 1\n",
    " #               print(irisrow[0],\"is in HMRC and Iris\")\n",
    "                break\n",
    "                \n",
    "    if rowmatch == 0:\n",
    "        print(hmrcrow[0],hmrcrow[1],\"is in HMRC but not in Iris\")"
   ]
  },
  {
   "cell_type": "code",
   "execution_count": 53,
   "metadata": {},
   "outputs": [
    {
     "data": {
      "text/plain": [
       "'C:\\\\Users\\\\rmeredith'"
      ]
     },
     "execution_count": 53,
     "metadata": {},
     "output_type": "execute_result"
    }
   ],
   "source": [
    "pwd"
   ]
  },
  {
   "cell_type": "code",
   "execution_count": null,
   "metadata": {},
   "outputs": [],
   "source": []
  }
 ],
 "metadata": {
  "kernelspec": {
   "display_name": "Python 3",
   "language": "python",
   "name": "python3"
  },
  "language_info": {
   "codemirror_mode": {
    "name": "ipython",
    "version": 3
   },
   "file_extension": ".py",
   "mimetype": "text/x-python",
   "name": "python",
   "nbconvert_exporter": "python",
   "pygments_lexer": "ipython3",
   "version": "3.7.1"
  }
 },
 "nbformat": 4,
 "nbformat_minor": 2
}
